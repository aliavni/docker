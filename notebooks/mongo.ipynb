{
 "cells": [
  {
   "cell_type": "code",
   "execution_count": 23,
   "id": "f6d1dfe6-20e3-4d33-b61f-33f65a2aa9c3",
   "metadata": {},
   "outputs": [],
   "source": [
    "from pymongo import MongoClient\n",
    "from bson.objectid import ObjectId"
   ]
  },
  {
   "cell_type": "code",
   "execution_count": 7,
   "id": "c3f01060-c852-4b93-b459-dd7f0640298d",
   "metadata": {},
   "outputs": [],
   "source": [
    "client = MongoClient(\"mongo\", 27017)"
   ]
  },
  {
   "cell_type": "code",
   "execution_count": 11,
   "id": "dc83f46e-6e9a-4d58-b0e6-6f2708dece0f",
   "metadata": {},
   "outputs": [
    {
     "data": {
      "text/plain": [
       "['admin', 'config', 'local']"
      ]
     },
     "execution_count": 11,
     "metadata": {},
     "output_type": "execute_result"
    }
   ],
   "source": [
    "client.list_database_names()"
   ]
  },
  {
   "cell_type": "code",
   "execution_count": 12,
   "id": "d4f8a262-c69a-4483-ae4a-095f545341cb",
   "metadata": {},
   "outputs": [],
   "source": [
    "db = client.test_db"
   ]
  },
  {
   "cell_type": "code",
   "execution_count": 13,
   "id": "79d99b6e-e0a0-4cd0-a5d1-d5af0e25b6c7",
   "metadata": {},
   "outputs": [],
   "source": [
    "collection = db.test_collection"
   ]
  },
  {
   "cell_type": "code",
   "execution_count": 14,
   "id": "3ffe4b7a-d07f-4df0-866e-fd34385093ce",
   "metadata": {},
   "outputs": [],
   "source": [
    "post = {\"author\": \"me\"}"
   ]
  },
  {
   "cell_type": "code",
   "execution_count": 15,
   "id": "ea994465-f38a-4f3e-959c-7a821dfc9af7",
   "metadata": {},
   "outputs": [],
   "source": [
    "post_id = collection.insert_one(post).inserted_id"
   ]
  },
  {
   "cell_type": "code",
   "execution_count": 16,
   "id": "53c41546-9a12-4969-b36c-96d61d797735",
   "metadata": {},
   "outputs": [
    {
     "data": {
      "text/plain": [
       "ObjectId('667321e16c65440db2aa4344')"
      ]
     },
     "execution_count": 16,
     "metadata": {},
     "output_type": "execute_result"
    }
   ],
   "source": [
    "post_id"
   ]
  },
  {
   "cell_type": "code",
   "execution_count": null,
   "id": "0765b802-1764-4327-b070-62c2cc76592e",
   "metadata": {},
   "outputs": [],
   "source": []
  },
  {
   "cell_type": "code",
   "execution_count": 18,
   "id": "abdbadee-fa1f-4f68-8a23-4d0570aed4bc",
   "metadata": {},
   "outputs": [
    {
     "data": {
      "text/plain": [
       "1"
      ]
     },
     "execution_count": 18,
     "metadata": {},
     "output_type": "execute_result"
    }
   ],
   "source": [
    "collection.count_documents({})"
   ]
  },
  {
   "cell_type": "code",
   "execution_count": 19,
   "id": "8e9ebf70-33a5-4fc3-93d1-7fb3fd8d1609",
   "metadata": {},
   "outputs": [
    {
     "data": {
      "text/plain": [
       "{'_id': ObjectId('667321e16c65440db2aa4344'), 'author': 'me'}"
      ]
     },
     "execution_count": 19,
     "metadata": {},
     "output_type": "execute_result"
    }
   ],
   "source": [
    "collection.find_one()"
   ]
  },
  {
   "cell_type": "code",
   "execution_count": 24,
   "id": "85f40427-f63b-466b-8f0f-7bf01e0559c0",
   "metadata": {},
   "outputs": [
    {
     "data": {
      "text/plain": [
       "{'_id': ObjectId('667321e16c65440db2aa4344'), 'author': 'me'}"
      ]
     },
     "execution_count": 24,
     "metadata": {},
     "output_type": "execute_result"
    }
   ],
   "source": [
    "collection.find_one({\"_id\": ObjectId(post_id)})"
   ]
  },
  {
   "cell_type": "code",
   "execution_count": null,
   "id": "d7fe0141-33ed-4ffd-8dd7-12b65679797d",
   "metadata": {},
   "outputs": [],
   "source": []
  }
 ],
 "metadata": {
  "kernelspec": {
   "display_name": "Python 3 (ipykernel)",
   "language": "python",
   "name": "python3"
  },
  "language_info": {
   "codemirror_mode": {
    "name": "ipython",
    "version": 3
   },
   "file_extension": ".py",
   "mimetype": "text/x-python",
   "name": "python",
   "nbconvert_exporter": "python",
   "pygments_lexer": "ipython3",
   "version": "3.11.5"
  }
 },
 "nbformat": 4,
 "nbformat_minor": 5
}
