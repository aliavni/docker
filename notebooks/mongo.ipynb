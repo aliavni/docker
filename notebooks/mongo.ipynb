{
 "cells": [
  {
   "cell_type": "code",
   "execution_count": 15,
   "id": "f6d1dfe6-20e3-4d33-b61f-33f65a2aa9c3",
   "metadata": {},
   "outputs": [],
   "source": [
    "from pymongo import MongoClient\n",
    "from bson.objectid import ObjectId\n",
    "from bson.son import SON"
   ]
  },
  {
   "cell_type": "code",
   "execution_count": 2,
   "id": "c3f01060-c852-4b93-b459-dd7f0640298d",
   "metadata": {},
   "outputs": [],
   "source": [
    "client = MongoClient(\"mongo\", 27017, serverSelectionTimeoutMS=5000)"
   ]
  },
  {
   "cell_type": "code",
   "execution_count": 3,
   "id": "dc83f46e-6e9a-4d58-b0e6-6f2708dece0f",
   "metadata": {},
   "outputs": [
    {
     "data": {
      "text/plain": [
       "['admin', 'artic', 'config', 'local', 'test_db']"
      ]
     },
     "execution_count": 3,
     "metadata": {},
     "output_type": "execute_result"
    }
   ],
   "source": [
    "client.list_database_names()"
   ]
  },
  {
   "cell_type": "code",
   "execution_count": null,
   "id": "e81b1f62-acc1-4aad-8ba8-e07ff219aa3f",
   "metadata": {},
   "outputs": [],
   "source": []
  },
  {
   "cell_type": "markdown",
   "id": "d6e6af94-e680-45f4-a58f-bb50860ea8ac",
   "metadata": {},
   "source": [
    "# Art collection"
   ]
  },
  {
   "cell_type": "code",
   "execution_count": 4,
   "id": "8c67011f-b806-4838-957a-e5a9676e738b",
   "metadata": {},
   "outputs": [],
   "source": [
    "artic = client.artic\n",
    "art = artic.art"
   ]
  },
  {
   "cell_type": "code",
   "execution_count": 6,
   "id": "f81fd439-eeec-48e8-945c-343830f525d0",
   "metadata": {},
   "outputs": [
    {
     "data": {
      "text/plain": [
       "125906"
      ]
     },
     "execution_count": 6,
     "metadata": {},
     "output_type": "execute_result"
    }
   ],
   "source": [
    "art.count_documents({})"
   ]
  },
  {
   "cell_type": "code",
   "execution_count": null,
   "id": "aa9be08e-0a3d-4798-8612-dc3773539f6f",
   "metadata": {},
   "outputs": [],
   "source": []
  },
  {
   "cell_type": "code",
   "execution_count": 25,
   "id": "7ad69081-21d4-4af6-b0e6-748f6afbec32",
   "metadata": {},
   "outputs": [
    {
     "data": {
      "text/plain": [
       "[{'_id': {'artist_id': 34946, 'artist_title': 'Utagawa Hiroshige'},\n",
       "  'count': 1593},\n",
       " {'_id': {'artist_id': 110752, 'artist_title': 'Unknown'}, 'count': 1154},\n",
       " {'_id': {'artist_id': 51349, 'artist_title': 'Ancient Roman'}, 'count': 1138},\n",
       " {'_id': {'artist_id': 37279, 'artist_title': 'James McNeill Whistler'},\n",
       "  'count': 1096},\n",
       " {'_id': {'artist_id': 37541, 'artist_title': 'Ancient Egyptian'},\n",
       "  'count': 1048},\n",
       " {'_id': {'artist_id': 117550, 'artist_title': 'Unknown Maker'}, 'count': 982},\n",
       " {'_id': {'artist_id': 35139, 'artist_title': 'Jasper Johns'}, 'count': 841},\n",
       " {'_id': {'artist_id': 2601, 'artist_title': 'Ancient Greek'}, 'count': 685},\n",
       " {'_id': {'artist_id': 40517, 'artist_title': 'Honoré-Victorin Daumier'},\n",
       "  'count': 673},\n",
       " {'_id': {'artist_id': 35220, 'artist_title': 'Kawase Hasui'}, 'count': 609}]"
      ]
     },
     "execution_count": 25,
     "metadata": {},
     "output_type": "execute_result"
    }
   ],
   "source": [
    "pipeline = [\n",
    "    {\"$match\": {\"artist_title\": {\"$ne\": None}}},\n",
    "    {\n",
    "        \"$group\": {\n",
    "            \"_id\": {\"artist_id\": \"$artist_id\", \"artist_title\": \"$artist_title\"},\n",
    "            \"count\": {\"$sum\": 1},\n",
    "        }\n",
    "    },\n",
    "    {\"$sort\": SON([(\"count\", -1)])},\n",
    "]\n",
    "\n",
    "results = [i for i in art.aggregate(pipeline)]\n",
    "results[:10]"
   ]
  },
  {
   "cell_type": "code",
   "execution_count": 26,
   "id": "a0c926e0-1b8b-4111-b8ee-ba307cbafead",
   "metadata": {},
   "outputs": [
    {
     "data": {
      "text/plain": [
       "13645"
      ]
     },
     "execution_count": 26,
     "metadata": {},
     "output_type": "execute_result"
    }
   ],
   "source": [
    "len(results)"
   ]
  },
  {
   "cell_type": "code",
   "execution_count": 21,
   "id": "cc0dff4f-2c48-44a9-948a-3e7d503d0198",
   "metadata": {},
   "outputs": [
    {
     "data": {
      "text/plain": [
       "{'_id': ObjectId('6676c556d2a1e14374739997'),\n",
       " 'id': 21977,\n",
       " 'alt_artist_ids': [],\n",
       " 'alt_classification_ids': ['TM-279', 'TM-27', 'TM-26', 'TM-46'],\n",
       " 'alt_image_ids': [],\n",
       " 'alt_material_ids': [],\n",
       " 'alt_style_ids': [],\n",
       " 'alt_subject_ids': [],\n",
       " 'alt_technique_ids': [],\n",
       " 'alt_titles': None,\n",
       " 'api_link': 'https://api.artic.edu/api/v1/artworks/21977',\n",
       " 'api_model': 'artworks',\n",
       " 'artist_display': 'Korea',\n",
       " 'artist_id': None,\n",
       " 'artist_ids': [],\n",
       " 'artist_title': None,\n",
       " 'artist_titles': [],\n",
       " 'artwork_type_id': 23,\n",
       " 'artwork_type_title': 'Vessel',\n",
       " 'boost_rank': None,\n",
       " 'catalogue_display': None,\n",
       " 'category_ids': ['PC-7'],\n",
       " 'category_titles': ['Arts of Asia'],\n",
       " 'classification_id': 'TM-11952',\n",
       " 'classification_ids': ['TM-11952', 'TM-279', 'TM-27', 'TM-26', 'TM-46'],\n",
       " 'classification_title': 'ewer (vessel)',\n",
       " 'classification_titles': ['ewer (vessel)',\n",
       "  'stoneware',\n",
       "  'vessel',\n",
       "  'asian art',\n",
       "  'ceramics'],\n",
       " 'color': {'h': 37,\n",
       "  'l': 68,\n",
       "  's': 77,\n",
       "  'percentage': 0.0002831120812418428,\n",
       "  'population': 2},\n",
       " 'colorfulness': 8.4987,\n",
       " 'copyright_notice': None,\n",
       " 'credit_line': 'Bequest of Russell Tyson',\n",
       " 'date_display': 'Goryeo dynasty (918–1392), 12th century',\n",
       " 'date_end': 1200,\n",
       " 'date_qualifier_id': None,\n",
       " 'date_qualifier_title': '',\n",
       " 'date_start': 1101,\n",
       " 'department_id': 'PC-7',\n",
       " 'department_title': 'Arts of Asia',\n",
       " 'description': None,\n",
       " 'dimensions': '18.5 × 19.6 × 15.7 cm (7 1/4 × 7 3/4 × 6 3/16 in.)',\n",
       " 'dimensions_detail': [{'depth': 15,\n",
       "   'width': 19,\n",
       "   'height': 18,\n",
       "   'diameter': None,\n",
       "   'clarification': None}],\n",
       " 'document_ids': [],\n",
       " 'edition': None,\n",
       " 'exhibition_history': None,\n",
       " 'fiscal_year': None,\n",
       " 'fiscal_year_deaccession': None,\n",
       " 'gallery_id': None,\n",
       " 'gallery_title': None,\n",
       " 'has_advanced_imaging': False,\n",
       " 'has_educational_resources': False,\n",
       " 'has_multimedia_resources': False,\n",
       " 'has_not_been_viewed_much': False,\n",
       " 'image_id': '968e49fe-a6a4-bf2a-ce6e-948fa31f13ac',\n",
       " 'inscriptions': None,\n",
       " 'internal_department_id': 8,\n",
       " 'is_boosted': False,\n",
       " 'is_on_view': False,\n",
       " 'is_public_domain': True,\n",
       " 'is_zoomable': True,\n",
       " 'latitude': None,\n",
       " 'latlon': None,\n",
       " 'longitude': None,\n",
       " 'main_reference_number': '1964.972',\n",
       " 'material_id': 'TM-2484',\n",
       " 'material_ids': ['TM-2484'],\n",
       " 'material_titles': ['stoneware'],\n",
       " 'max_zoom_window_size': -1,\n",
       " 'medium_display': 'Stoneware with celadon glaze and underglaze incised decoration',\n",
       " 'nomisma_id': None,\n",
       " 'on_loan_display': None,\n",
       " 'place_of_origin': 'Korea',\n",
       " 'provenance_text': None,\n",
       " 'publication_history': None,\n",
       " 'publishing_verification_level': 'Web Basic',\n",
       " 'section_ids': [],\n",
       " 'section_titles': [],\n",
       " 'short_description': None,\n",
       " 'site_ids': [],\n",
       " 'sound_ids': [],\n",
       " 'source_updated_at': '2024-06-22T00:30:09-05:00',\n",
       " 'style_id': 'TM-5182',\n",
       " 'style_ids': ['TM-5182'],\n",
       " 'style_title': 'Korean (culture or style)',\n",
       " 'style_titles': ['Korean (culture or style)'],\n",
       " 'subject_id': None,\n",
       " 'subject_ids': [],\n",
       " 'subject_titles': [],\n",
       " 'suggest_autocomplete_all': [{'input': ['1964.972'],\n",
       "   'contexts': {'groupings': ['accession']}},\n",
       "  {'input': ['Melon-Shaped Ewer with Stylized Flowers'],\n",
       "   'weight': 336,\n",
       "   'contexts': {'groupings': ['title']}}],\n",
       " 'technique_id': None,\n",
       " 'technique_ids': [],\n",
       " 'technique_titles': [],\n",
       " 'term_titles': ['ewer (vessel)',\n",
       "  'stoneware',\n",
       "  'Korean (culture or style)',\n",
       "  'stoneware',\n",
       "  'vessel',\n",
       "  'asian art',\n",
       "  'ceramics'],\n",
       " 'text_ids': [],\n",
       " 'theme_titles': [],\n",
       " 'thumbnail': {'lqip': 'data:image/gif;base64,R0lGODlhBQAFAPQAAKWnorG0qL28tsPGrMbFyNHSztPUz9rez83N1dbV19bW29PT3tbW3tnZ397g1ePn0eDg3tra4tra49vb5ODg5+Pi6Obk6+Ti7Obl7QAAAAAAAAAAAAAAAAAAAAAAAAAAACH5BAAAAAAALAAAAAAFAAUAAAUVYHRZ2NRATqEwxxMgkjEAS5UIBBUCADs=',\n",
       "  'width': 2265,\n",
       "  'height': 2250,\n",
       "  'alt_text': 'A work made of stoneware with celadon glaze and underglaze incised decoration.'},\n",
       " 'timestamp': '2024-06-22T14:00:12-05:00',\n",
       " 'title': 'Melon-Shaped Ewer with Stylized Flowers',\n",
       " 'updated_at': '2024-06-22T00:31:00-05:00',\n",
       " 'video_ids': []}"
      ]
     },
     "execution_count": 21,
     "metadata": {},
     "output_type": "execute_result"
    }
   ],
   "source": [
    "art.find_one({\"artist_id\": None})"
   ]
  },
  {
   "cell_type": "code",
   "execution_count": 7,
   "id": "6935d8a9-ea20-40b1-8437-cd8ddc44f37c",
   "metadata": {},
   "outputs": [
    {
     "data": {
      "text/plain": [
       "{'_id': ObjectId('6676c556d2a1e14374739994'),\n",
       " 'id': 13527,\n",
       " 'alt_artist_ids': [],\n",
       " 'alt_classification_ids': ['TM-17', 'TM-4'],\n",
       " 'alt_image_ids': [],\n",
       " 'alt_material_ids': [],\n",
       " 'alt_style_ids': [],\n",
       " 'alt_subject_ids': ['TM-10118'],\n",
       " 'alt_technique_ids': [],\n",
       " 'alt_titles': None,\n",
       " 'api_link': 'https://api.artic.edu/api/v1/artworks/13527',\n",
       " 'api_model': 'artworks',\n",
       " 'artist_display': 'Mary Cassatt (American, 1844-1926)\\nprinted with Leroy (French, active 1876-1900)',\n",
       " 'artist_id': 33890,\n",
       " 'artist_ids': [33890],\n",
       " 'artist_title': 'Mary Cassatt',\n",
       " 'artist_titles': ['Mary Cassatt'],\n",
       " 'artwork_type_id': 18,\n",
       " 'artwork_type_title': 'Print',\n",
       " 'boost_rank': None,\n",
       " 'catalogue_display': '<p>Mathews & Shapiro 5 17/17</p><p>Breeskin 143 11/11</p>',\n",
       " 'category_ids': ['PC-13', 'PC-825'],\n",
       " 'category_titles': ['Prints and Drawings', 'Women artists'],\n",
       " 'classification_id': 'TM-154',\n",
       " 'classification_ids': ['TM-154', 'TM-17', 'TM-4'],\n",
       " 'classification_title': 'drypoint',\n",
       " 'classification_titles': ['drypoint', 'print', 'prints and drawing'],\n",
       " 'color': {'h': 50,\n",
       "  'l': 61,\n",
       "  's': 47,\n",
       "  'percentage': 0.0010551670793152329,\n",
       "  'population': 1007},\n",
       " 'colorfulness': 0,\n",
       " 'copyright_notice': None,\n",
       " 'credit_line': 'Mr. and Mrs. Martin A. Ryerson Collection',\n",
       " 'date_display': '1890–91',\n",
       " 'date_end': 1891,\n",
       " 'date_qualifier_id': None,\n",
       " 'date_qualifier_title': '',\n",
       " 'date_start': 1890,\n",
       " 'department_id': 'PC-13',\n",
       " 'department_title': 'Prints and Drawings',\n",
       " 'description': None,\n",
       " 'dimensions': 'Image/plate: 32.1 × 24.7 cm (12 11/16 × 9 3/4 in.); Sheet: 43.6 × 30 cm (17 3/16 × 11 13/16 in.)',\n",
       " 'dimensions_detail': [{'depth': None,\n",
       "   'width': 24,\n",
       "   'height': 32,\n",
       "   'diameter': None,\n",
       "   'clarification': 'Image/plate'},\n",
       "  {'depth': None,\n",
       "   'width': 30,\n",
       "   'height': 43,\n",
       "   'diameter': None,\n",
       "   'clarification': 'Sheet'}],\n",
       " 'document_ids': [],\n",
       " 'edition': None,\n",
       " 'exhibition_history': None,\n",
       " 'fiscal_year': 1933,\n",
       " 'fiscal_year_deaccession': None,\n",
       " 'gallery_id': None,\n",
       " 'gallery_title': None,\n",
       " 'has_advanced_imaging': False,\n",
       " 'has_educational_resources': False,\n",
       " 'has_multimedia_resources': False,\n",
       " 'has_not_been_viewed_much': False,\n",
       " 'image_id': '907a7782-97d6-9cde-a8cb-1b9bea785ea1',\n",
       " 'inscriptions': None,\n",
       " 'internal_department_id': 3,\n",
       " 'is_boosted': False,\n",
       " 'is_on_view': False,\n",
       " 'is_public_domain': True,\n",
       " 'is_zoomable': True,\n",
       " 'latitude': None,\n",
       " 'latlon': None,\n",
       " 'longitude': None,\n",
       " 'main_reference_number': '1932.1287',\n",
       " 'material_id': 'TM-2982',\n",
       " 'material_ids': ['TM-2982'],\n",
       " 'material_titles': ['paper (fiber product)'],\n",
       " 'max_zoom_window_size': -1,\n",
       " 'medium_display': 'Color drypoint, aquatint and softground etching from two plates, printed à la poupée, on ivory laid paper',\n",
       " 'nomisma_id': None,\n",
       " 'on_loan_display': '<p>On loan to Philadelphia Museum of Art in Philadelphia for <i>Mary Cassatt at Work</i></p>',\n",
       " 'place_of_origin': 'United States',\n",
       " 'provenance_text': None,\n",
       " 'publication_history': None,\n",
       " 'publishing_verification_level': 'Web Basic',\n",
       " 'section_ids': [],\n",
       " 'section_titles': [],\n",
       " 'short_description': None,\n",
       " 'site_ids': [],\n",
       " 'sound_ids': [],\n",
       " 'source_updated_at': '2024-06-22T00:30:09-05:00',\n",
       " 'style_id': None,\n",
       " 'style_ids': [],\n",
       " 'style_title': None,\n",
       " 'style_titles': [],\n",
       " 'subject_id': 'TM-12350',\n",
       " 'subject_ids': ['TM-12350', 'TM-10118'],\n",
       " 'subject_titles': ['mothers', 'children'],\n",
       " 'suggest_autocomplete_all': [{'input': ['1932.1287'],\n",
       "   'contexts': {'groupings': ['accession']}},\n",
       "  {'input': ['The Bath'],\n",
       "   'weight': 1365,\n",
       "   'contexts': {'groupings': ['title']}}],\n",
       " 'technique_id': None,\n",
       " 'technique_ids': [],\n",
       " 'technique_titles': [],\n",
       " 'term_titles': ['drypoint',\n",
       "  'mothers',\n",
       "  'paper (fiber product)',\n",
       "  'print',\n",
       "  'prints and drawing',\n",
       "  'children'],\n",
       " 'text_ids': [],\n",
       " 'theme_titles': ['Women artists'],\n",
       " 'thumbnail': {'lqip': 'data:image/gif;base64,R0lGODlhBAAFAPQAAKCgc3yPl4yanb6yhqysmL+1qcy6h8e8j8e6lcq/oMm/stLBi9DGstPJuNLIutTKudXLutbMvNfPv9rQwQAAAAAAAAAAAAAAAAAAAAAAAAAAAAAAAAAAAAAAAAAAAAAAACH5BAAAAAAALAAAAAAEAAUAAAURYFMoUIQMjQAYSUAsRzQxUAgAOw==',\n",
       "  'width': 8537,\n",
       "  'height': 11179,\n",
       "  'alt_text': 'A work made of color drypoint, aquatint and softground etching from two plates, printed à la poupée, on ivory laid paper.'},\n",
       " 'timestamp': '2024-06-22T14:00:12-05:00',\n",
       " 'title': 'The Bath',\n",
       " 'updated_at': '2024-06-22T00:31:03-05:00',\n",
       " 'video_ids': []}"
      ]
     },
     "execution_count": 7,
     "metadata": {},
     "output_type": "execute_result"
    }
   ],
   "source": [
    "art.find_one()"
   ]
  },
  {
   "cell_type": "code",
   "execution_count": null,
   "id": "f707fdfb-5423-4f0d-abcd-3f300ff575a0",
   "metadata": {},
   "outputs": [],
   "source": []
  },
  {
   "cell_type": "code",
   "execution_count": null,
   "id": "0187b362-84ef-4b16-be55-3fa7aa96f1b7",
   "metadata": {},
   "outputs": [],
   "source": []
  },
  {
   "cell_type": "markdown",
   "id": "521134e2-4515-4da9-81ae-5ed0069ac956",
   "metadata": {},
   "source": [
    "# Test collection"
   ]
  },
  {
   "cell_type": "code",
   "execution_count": 12,
   "id": "d4f8a262-c69a-4483-ae4a-095f545341cb",
   "metadata": {},
   "outputs": [],
   "source": [
    "db = client.test_db"
   ]
  },
  {
   "cell_type": "code",
   "execution_count": 13,
   "id": "79d99b6e-e0a0-4cd0-a5d1-d5af0e25b6c7",
   "metadata": {},
   "outputs": [],
   "source": [
    "collection = db.test_collection"
   ]
  },
  {
   "cell_type": "code",
   "execution_count": 14,
   "id": "3ffe4b7a-d07f-4df0-866e-fd34385093ce",
   "metadata": {},
   "outputs": [],
   "source": [
    "post = {\"author\": \"me\"}"
   ]
  },
  {
   "cell_type": "code",
   "execution_count": 15,
   "id": "ea994465-f38a-4f3e-959c-7a821dfc9af7",
   "metadata": {},
   "outputs": [],
   "source": [
    "post_id = collection.insert_one(post).inserted_id"
   ]
  },
  {
   "cell_type": "code",
   "execution_count": 16,
   "id": "53c41546-9a12-4969-b36c-96d61d797735",
   "metadata": {},
   "outputs": [
    {
     "data": {
      "text/plain": [
       "ObjectId('667321e16c65440db2aa4344')"
      ]
     },
     "execution_count": 16,
     "metadata": {},
     "output_type": "execute_result"
    }
   ],
   "source": [
    "post_id"
   ]
  },
  {
   "cell_type": "code",
   "execution_count": null,
   "id": "0765b802-1764-4327-b070-62c2cc76592e",
   "metadata": {},
   "outputs": [],
   "source": []
  },
  {
   "cell_type": "code",
   "execution_count": 18,
   "id": "abdbadee-fa1f-4f68-8a23-4d0570aed4bc",
   "metadata": {},
   "outputs": [
    {
     "data": {
      "text/plain": [
       "1"
      ]
     },
     "execution_count": 18,
     "metadata": {},
     "output_type": "execute_result"
    }
   ],
   "source": [
    "collection.count_documents({})"
   ]
  },
  {
   "cell_type": "code",
   "execution_count": 19,
   "id": "8e9ebf70-33a5-4fc3-93d1-7fb3fd8d1609",
   "metadata": {},
   "outputs": [
    {
     "data": {
      "text/plain": [
       "{'_id': ObjectId('667321e16c65440db2aa4344'), 'author': 'me'}"
      ]
     },
     "execution_count": 19,
     "metadata": {},
     "output_type": "execute_result"
    }
   ],
   "source": [
    "collection.find_one()"
   ]
  },
  {
   "cell_type": "code",
   "execution_count": 24,
   "id": "85f40427-f63b-466b-8f0f-7bf01e0559c0",
   "metadata": {},
   "outputs": [
    {
     "data": {
      "text/plain": [
       "{'_id': ObjectId('667321e16c65440db2aa4344'), 'author': 'me'}"
      ]
     },
     "execution_count": 24,
     "metadata": {},
     "output_type": "execute_result"
    }
   ],
   "source": [
    "collection.find_one({\"_id\": ObjectId(post_id)})"
   ]
  },
  {
   "cell_type": "code",
   "execution_count": null,
   "id": "d7fe0141-33ed-4ffd-8dd7-12b65679797d",
   "metadata": {},
   "outputs": [],
   "source": []
  }
 ],
 "metadata": {
  "kernelspec": {
   "display_name": "Python 3 (ipykernel)",
   "language": "python",
   "name": "python3"
  },
  "language_info": {
   "codemirror_mode": {
    "name": "ipython",
    "version": 3
   },
   "file_extension": ".py",
   "mimetype": "text/x-python",
   "name": "python",
   "nbconvert_exporter": "python",
   "pygments_lexer": "ipython3",
   "version": "3.11.5"
  }
 },
 "nbformat": 4,
 "nbformat_minor": 5
}
