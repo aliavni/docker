{
 "cells": [
  {
   "cell_type": "code",
   "execution_count": 1,
   "id": "aeebe5b1-a60d-47f0-be56-e3c83f3a8182",
   "metadata": {},
   "outputs": [],
   "source": [
    "from kafka import KafkaConsumer"
   ]
  },
  {
   "cell_type": "code",
   "execution_count": 2,
   "id": "058fbdd6-05e7-4ed4-92b9-2a7dd1fd3d8f",
   "metadata": {},
   "outputs": [],
   "source": [
    "topic = \"test\""
   ]
  },
  {
   "cell_type": "code",
   "execution_count": 7,
   "id": "80a9becf-73fe-42a2-a5f9-f36e24c41314",
   "metadata": {},
   "outputs": [],
   "source": [
    "consumer = KafkaConsumer(topic, bootstrap_servers=\"docker-kafka-1:9092\")"
   ]
  },
  {
   "cell_type": "code",
   "execution_count": null,
   "id": "5e7ba6ec-96eb-4db1-ab6b-6435d3a5906a",
   "metadata": {},
   "outputs": [],
   "source": [
    "for msg in consumer:\n",
    "    print(msg.value, msg)"
   ]
  },
  {
   "cell_type": "code",
   "execution_count": null,
   "id": "ceae59ab-36be-4827-a121-09afa4970e62",
   "metadata": {},
   "outputs": [],
   "source": []
  }
 ],
 "metadata": {
  "kernelspec": {
   "display_name": "Python 3 (ipykernel)",
   "language": "python",
   "name": "python3"
  },
  "language_info": {
   "codemirror_mode": {
    "name": "ipython",
    "version": 3
   },
   "file_extension": ".py",
   "mimetype": "text/x-python",
   "name": "python",
   "nbconvert_exporter": "python",
   "pygments_lexer": "ipython3",
   "version": "3.11.5"
  }
 },
 "nbformat": 4,
 "nbformat_minor": 5
}
