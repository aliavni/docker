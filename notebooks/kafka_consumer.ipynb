{
 "cells": [
  {
   "cell_type": "code",
   "execution_count": 7,
   "id": "aeebe5b1-a60d-47f0-be56-e3c83f3a8182",
   "metadata": {},
   "outputs": [],
   "source": [
    "from kafka import KafkaConsumer"
   ]
  },
  {
   "cell_type": "code",
   "execution_count": 8,
   "id": "058fbdd6-05e7-4ed4-92b9-2a7dd1fd3d8f",
   "metadata": {},
   "outputs": [],
   "source": [
    "topic = \"test\""
   ]
  },
  {
   "cell_type": "code",
   "execution_count": 9,
   "id": "80a9becf-73fe-42a2-a5f9-f36e24c41314",
   "metadata": {},
   "outputs": [],
   "source": [
    "consumer = KafkaConsumer(topic, bootstrap_servers=\"kafka:9092\", max_poll_records=10)"
   ]
  },
  {
   "cell_type": "code",
   "execution_count": 10,
   "id": "5e7ba6ec-96eb-4db1-ab6b-6435d3a5906a",
   "metadata": {},
   "outputs": [
    {
     "name": "stdout",
     "output_type": "stream",
     "text": [
      "b'message 0' ConsumerRecord(topic='test', partition=0, offset=51, timestamp=1719085894135, timestamp_type=0, key=None, value=b'message 0', headers=[], checksum=None, serialized_key_size=-1, serialized_value_size=9, serialized_header_size=-1)\n",
      "b'message 1' ConsumerRecord(topic='test', partition=0, offset=52, timestamp=1719085894136, timestamp_type=0, key=None, value=b'message 1', headers=[], checksum=None, serialized_key_size=-1, serialized_value_size=9, serialized_header_size=-1)\n",
      "b'message 2' ConsumerRecord(topic='test', partition=0, offset=53, timestamp=1719085894137, timestamp_type=0, key=None, value=b'message 2', headers=[], checksum=None, serialized_key_size=-1, serialized_value_size=9, serialized_header_size=-1)\n",
      "b'message 3' ConsumerRecord(topic='test', partition=0, offset=54, timestamp=1719085894137, timestamp_type=0, key=None, value=b'message 3', headers=[], checksum=None, serialized_key_size=-1, serialized_value_size=9, serialized_header_size=-1)\n",
      "b'message 4' ConsumerRecord(topic='test', partition=0, offset=55, timestamp=1719085894137, timestamp_type=0, key=None, value=b'message 4', headers=[], checksum=None, serialized_key_size=-1, serialized_value_size=9, serialized_header_size=-1)\n",
      "b'message 5' ConsumerRecord(topic='test', partition=0, offset=56, timestamp=1719085894137, timestamp_type=0, key=None, value=b'message 5', headers=[], checksum=None, serialized_key_size=-1, serialized_value_size=9, serialized_header_size=-1)\n",
      "b'message 6' ConsumerRecord(topic='test', partition=0, offset=57, timestamp=1719085894137, timestamp_type=0, key=None, value=b'message 6', headers=[], checksum=None, serialized_key_size=-1, serialized_value_size=9, serialized_header_size=-1)\n",
      "b'message 7' ConsumerRecord(topic='test', partition=0, offset=58, timestamp=1719085894137, timestamp_type=0, key=None, value=b'message 7', headers=[], checksum=None, serialized_key_size=-1, serialized_value_size=9, serialized_header_size=-1)\n",
      "b'message 8' ConsumerRecord(topic='test', partition=0, offset=59, timestamp=1719085894137, timestamp_type=0, key=None, value=b'message 8', headers=[], checksum=None, serialized_key_size=-1, serialized_value_size=9, serialized_header_size=-1)\n",
      "b'message 9' ConsumerRecord(topic='test', partition=0, offset=60, timestamp=1719085894137, timestamp_type=0, key=None, value=b'message 9', headers=[], checksum=None, serialized_key_size=-1, serialized_value_size=9, serialized_header_size=-1)\n",
      "Consumer interrupted, shutting down...\n"
     ]
    }
   ],
   "source": [
    "try:\n",
    "    for msg in consumer:\n",
    "        print(msg.value, msg)\n",
    "except KeyboardInterrupt:\n",
    "    print(\"Consumer interrupted, shutting down...\")\n",
    "finally:\n",
    "    consumer.close()"
   ]
  },
  {
   "cell_type": "code",
   "execution_count": null,
   "id": "ceae59ab-36be-4827-a121-09afa4970e62",
   "metadata": {},
   "outputs": [],
   "source": []
  }
 ],
 "metadata": {
  "kernelspec": {
   "display_name": "Python 3 (ipykernel)",
   "language": "python",
   "name": "python3"
  },
  "language_info": {
   "codemirror_mode": {
    "name": "ipython",
    "version": 3
   },
   "file_extension": ".py",
   "mimetype": "text/x-python",
   "name": "python",
   "nbconvert_exporter": "python",
   "pygments_lexer": "ipython3",
   "version": "3.11.5"
  }
 },
 "nbformat": 4,
 "nbformat_minor": 5
}
