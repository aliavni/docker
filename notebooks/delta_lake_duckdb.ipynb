{
 "cells": [
  {
   "cell_type": "markdown",
   "id": "0d81a1ba-e00b-4775-874c-51d3e17c6494",
   "metadata": {},
   "source": [
    "See [delta_lake](delta_lake.ipynb) for populating countries.\n",
    "\n",
    "Install duckdb package 👇"
   ]
  },
  {
   "cell_type": "code",
   "execution_count": null,
   "id": "3eb7da39-72a9-4f85-a70d-2b68aec5d85b",
   "metadata": {},
   "outputs": [],
   "source": [
    "! conda install -y -q python-duckdb"
   ]
  },
  {
   "cell_type": "code",
   "execution_count": 4,
   "id": "42879599-8dec-472d-a7bd-317289794a3e",
   "metadata": {},
   "outputs": [],
   "source": [
    "import duckdb\n",
    "from deltalake import DeltaTable"
   ]
  },
  {
   "cell_type": "code",
   "execution_count": null,
   "id": "78a94f6b-0027-4ad0-a771-9bdd98915394",
   "metadata": {},
   "outputs": [],
   "source": []
  },
  {
   "cell_type": "code",
   "execution_count": 14,
   "id": "b56937da-bed3-43d6-aba8-28556c717147",
   "metadata": {},
   "outputs": [],
   "source": [
    "countries = DeltaTable(\"data/delta/countries\").to_pyarrow_table()"
   ]
  },
  {
   "cell_type": "code",
   "execution_count": 15,
   "id": "9f3de2c4-d6b3-4fb0-9b57-e4bee4bb7034",
   "metadata": {},
   "outputs": [],
   "source": [
    "con = duckdb.connect()"
   ]
  },
  {
   "cell_type": "code",
   "execution_count": 16,
   "id": "6b30c2b3-7590-4145-b5fe-4937cbdda445",
   "metadata": {},
   "outputs": [
    {
     "data": {
      "text/html": [
       "<div>\n",
       "<style scoped>\n",
       "    .dataframe tbody tr th:only-of-type {\n",
       "        vertical-align: middle;\n",
       "    }\n",
       "\n",
       "    .dataframe tbody tr th {\n",
       "        vertical-align: top;\n",
       "    }\n",
       "\n",
       "    .dataframe thead th {\n",
       "        text-align: right;\n",
       "    }\n",
       "</style>\n",
       "<table border=\"1\" class=\"dataframe\">\n",
       "  <thead>\n",
       "    <tr style=\"text-align: right;\">\n",
       "      <th></th>\n",
       "      <th>Country</th>\n",
       "      <th>Region</th>\n",
       "    </tr>\n",
       "  </thead>\n",
       "  <tbody>\n",
       "    <tr>\n",
       "      <th>0</th>\n",
       "      <td>Cambodia</td>\n",
       "      <td>ASIA</td>\n",
       "    </tr>\n",
       "    <tr>\n",
       "      <th>1</th>\n",
       "      <td>China</td>\n",
       "      <td>ASIA</td>\n",
       "    </tr>\n",
       "    <tr>\n",
       "      <th>2</th>\n",
       "      <td>East Timor</td>\n",
       "      <td>ASIA</td>\n",
       "    </tr>\n",
       "    <tr>\n",
       "      <th>3</th>\n",
       "      <td>India</td>\n",
       "      <td>ASIA</td>\n",
       "    </tr>\n",
       "    <tr>\n",
       "      <th>4</th>\n",
       "      <td>Indonesia</td>\n",
       "      <td>ASIA</td>\n",
       "    </tr>\n",
       "    <tr>\n",
       "      <th>...</th>\n",
       "      <td>...</td>\n",
       "      <td>...</td>\n",
       "    </tr>\n",
       "    <tr>\n",
       "      <th>189</th>\n",
       "      <td>Bahrain</td>\n",
       "      <td>ASIA</td>\n",
       "    </tr>\n",
       "    <tr>\n",
       "      <th>190</th>\n",
       "      <td>Bangladesh</td>\n",
       "      <td>ASIA</td>\n",
       "    </tr>\n",
       "    <tr>\n",
       "      <th>191</th>\n",
       "      <td>Bhutan</td>\n",
       "      <td>ASIA</td>\n",
       "    </tr>\n",
       "    <tr>\n",
       "      <th>192</th>\n",
       "      <td>Brunei</td>\n",
       "      <td>ASIA</td>\n",
       "    </tr>\n",
       "    <tr>\n",
       "      <th>193</th>\n",
       "      <td>Burma</td>\n",
       "      <td>ASIA</td>\n",
       "    </tr>\n",
       "  </tbody>\n",
       "</table>\n",
       "<p>194 rows × 2 columns</p>\n",
       "</div>"
      ],
      "text/plain": [
       "        Country Region\n",
       "0      Cambodia   ASIA\n",
       "1         China   ASIA\n",
       "2    East Timor   ASIA\n",
       "3         India   ASIA\n",
       "4     Indonesia   ASIA\n",
       "..          ...    ...\n",
       "189     Bahrain   ASIA\n",
       "190  Bangladesh   ASIA\n",
       "191      Bhutan   ASIA\n",
       "192      Brunei   ASIA\n",
       "193       Burma   ASIA\n",
       "\n",
       "[194 rows x 2 columns]"
      ]
     },
     "execution_count": 16,
     "metadata": {},
     "output_type": "execute_result"
    }
   ],
   "source": [
    "con.execute(\"select * from countries\").df()"
   ]
  },
  {
   "cell_type": "code",
   "execution_count": 17,
   "id": "a0414156-3afc-46c7-8033-55fef2751ef5",
   "metadata": {},
   "outputs": [
    {
     "data": {
      "text/html": [
       "<div><style>\n",
       ".dataframe > thead > tr,\n",
       ".dataframe > tbody > tr {\n",
       "  text-align: right;\n",
       "  white-space: pre-wrap;\n",
       "}\n",
       "</style>\n",
       "<small>shape: (194, 2)</small><table border=\"1\" class=\"dataframe\"><thead><tr><th>Country</th><th>Region</th></tr><tr><td>str</td><td>str</td></tr></thead><tbody><tr><td>&quot;Cambodia&quot;</td><td>&quot;ASIA&quot;</td></tr><tr><td>&quot;China&quot;</td><td>&quot;ASIA&quot;</td></tr><tr><td>&quot;East Timor&quot;</td><td>&quot;ASIA&quot;</td></tr><tr><td>&quot;India&quot;</td><td>&quot;ASIA&quot;</td></tr><tr><td>&quot;Indonesia&quot;</td><td>&quot;ASIA&quot;</td></tr><tr><td>&hellip;</td><td>&hellip;</td></tr><tr><td>&quot;Bahrain&quot;</td><td>&quot;ASIA&quot;</td></tr><tr><td>&quot;Bangladesh&quot;</td><td>&quot;ASIA&quot;</td></tr><tr><td>&quot;Bhutan&quot;</td><td>&quot;ASIA&quot;</td></tr><tr><td>&quot;Brunei&quot;</td><td>&quot;ASIA&quot;</td></tr><tr><td>&quot;Burma&quot;</td><td>&quot;ASIA&quot;</td></tr></tbody></table></div>"
      ],
      "text/plain": [
       "shape: (194, 2)\n",
       "┌────────────┬────────┐\n",
       "│ Country    ┆ Region │\n",
       "│ ---        ┆ ---    │\n",
       "│ str        ┆ str    │\n",
       "╞════════════╪════════╡\n",
       "│ Cambodia   ┆ ASIA   │\n",
       "│ China      ┆ ASIA   │\n",
       "│ East Timor ┆ ASIA   │\n",
       "│ India      ┆ ASIA   │\n",
       "│ Indonesia  ┆ ASIA   │\n",
       "│ …          ┆ …      │\n",
       "│ Bahrain    ┆ ASIA   │\n",
       "│ Bangladesh ┆ ASIA   │\n",
       "│ Bhutan     ┆ ASIA   │\n",
       "│ Brunei     ┆ ASIA   │\n",
       "│ Burma      ┆ ASIA   │\n",
       "└────────────┴────────┘"
      ]
     },
     "execution_count": 17,
     "metadata": {},
     "output_type": "execute_result"
    }
   ],
   "source": [
    "con.execute(\"select * from countries\").pl()"
   ]
  },
  {
   "cell_type": "code",
   "execution_count": null,
   "id": "e21e0fe9-7002-4efb-8d2e-39479902d520",
   "metadata": {},
   "outputs": [],
   "source": []
  },
  {
   "cell_type": "code",
   "execution_count": null,
   "id": "8445dddd-d0bc-4cf4-9455-5a166c25ca7b",
   "metadata": {},
   "outputs": [],
   "source": []
  }
 ],
 "metadata": {
  "kernelspec": {
   "display_name": "Python 3 (ipykernel)",
   "language": "python",
   "name": "python3"
  },
  "language_info": {
   "codemirror_mode": {
    "name": "ipython",
    "version": 3
   },
   "file_extension": ".py",
   "mimetype": "text/x-python",
   "name": "python",
   "nbconvert_exporter": "python",
   "pygments_lexer": "ipython3",
   "version": "3.11.5"
  }
 },
 "nbformat": 4,
 "nbformat_minor": 5
}
