{
 "cells": [
  {
   "cell_type": "code",
   "execution_count": null,
   "id": "b9e52274-21c8-4fff-acd7-1939adc31ccd",
   "metadata": {},
   "outputs": [],
   "source": [
    "import pyspark\n",
    "import delta\n",
    "\n",
    "import pandas as pd\n",
    "\n",
    "from pyspark.conf import SparkConf\n",
    "\n",
    "import requests\n",
    "\n",
    "from bs4 import BeautifulSoup\n",
    "\n",
    "import json"
   ]
  },
  {
   "cell_type": "code",
   "execution_count": null,
   "id": "3e972ee1-f988-4ca3-9ba5-9a4aab5fc750",
   "metadata": {},
   "outputs": [],
   "source": [
    "conf = (\n",
    "    SparkConf()\n",
    "    .setAppName(\"DeltaApp\")\n",
    "    .set(\"spark.driver.memory\", \"30g\")\n",
    "    .set(\"spark.executor.memory\", \"30g\")\n",
    "    .set(\"spark.sql.extensions\", \"io.delta.sql.DeltaSparkSessionExtension\")\n",
    "    .set(\"spark.driver.maxResultSize\", \"0\")\n",
    "    .set(\n",
    "        \"spark.sql.catalog.spark_catalog\",\n",
    "        \"org.apache.spark.sql.delta.catalog.DeltaCatalog\",\n",
    "    )\n",
    "    .set(\"spark.sql.debug.maxToStringFields\", \"1000\")\n",
    ")"
   ]
  },
  {
   "cell_type": "code",
   "execution_count": null,
   "id": "eba90bf2-e102-443b-bf7e-e2517124ba12",
   "metadata": {},
   "outputs": [],
   "source": [
    "conf.getAll()"
   ]
  },
  {
   "cell_type": "code",
   "execution_count": null,
   "id": "8210776c-7911-454b-a440-e92cada09fe9",
   "metadata": {},
   "outputs": [],
   "source": [
    "builder = pyspark.sql.SparkSession.builder.config(conf=conf)"
   ]
  },
  {
   "cell_type": "code",
   "execution_count": null,
   "id": "32a9b374-9de2-4840-bd50-8ac795fe5da3",
   "metadata": {},
   "outputs": [],
   "source": [
    "spark = delta.configure_spark_with_delta_pip(builder).getOrCreate()"
   ]
  },
  {
   "cell_type": "markdown",
   "id": "90db7c8d-ad48-4ae4-903b-6dbbd817f799",
   "metadata": {},
   "source": [
    "# Create table"
   ]
  },
  {
   "cell_type": "code",
   "execution_count": null,
   "id": "f60f6857-0b1f-426b-9168-9981c76a4e3d",
   "metadata": {},
   "outputs": [],
   "source": [
    "countries = pd.read_csv(\n",
    "    \"https://raw.githubusercontent.com/cs109/2014_data/master/countries.csv\"\n",
    ")"
   ]
  },
  {
   "cell_type": "code",
   "execution_count": null,
   "id": "10b405c5-4f3d-4162-85ec-5271cabe6c9e",
   "metadata": {},
   "outputs": [],
   "source": [
    "countries_df = spark.createDataFrame(countries)"
   ]
  },
  {
   "cell_type": "code",
   "execution_count": null,
   "id": "5aaf750f-d827-424c-b682-02cc52982201",
   "metadata": {},
   "outputs": [],
   "source": [
    "countries_df.write.format(\"delta\").mode(\"overwrite\").save(\"data/delta/countries\")"
   ]
  },
  {
   "cell_type": "code",
   "execution_count": null,
   "id": "4ed4fd82-fad8-438c-ba74-49a0779e3360",
   "metadata": {},
   "outputs": [],
   "source": [
    "! ls -l ./data/delta/countries/_delta_log/"
   ]
  },
  {
   "cell_type": "markdown",
   "id": "50a78871-651e-4576-ac05-659554e2c1a7",
   "metadata": {},
   "source": [
    "# Read data"
   ]
  },
  {
   "cell_type": "code",
   "execution_count": null,
   "id": "67db38cd-cefb-4127-b3c2-9e27a7b4c51c",
   "metadata": {},
   "outputs": [],
   "source": [
    "df = spark.read.format(\"delta\").load(\"data/delta/countries\")\n",
    "df.show()"
   ]
  },
  {
   "cell_type": "code",
   "execution_count": null,
   "id": "fff9f4c8-1ac3-4738-9cd6-57b3652151a1",
   "metadata": {},
   "outputs": [],
   "source": [
    "df.groupby(\"Region\").count().show()"
   ]
  },
  {
   "cell_type": "code",
   "execution_count": null,
   "id": "69a5ab64-d42f-4295-a42a-a2ccd6a63b32",
   "metadata": {},
   "outputs": [],
   "source": []
  },
  {
   "cell_type": "markdown",
   "id": "e742c171-b493-437f-a165-c3e1fe55454e",
   "metadata": {},
   "source": [
    "# inside airbnb"
   ]
  },
  {
   "cell_type": "code",
   "execution_count": null,
   "id": "e9ba8e2c-e7d9-4993-b546-2719b1b08b27",
   "metadata": {},
   "outputs": [],
   "source": [
    "resp = requests.get(\"https://insideairbnb.com/get-the-data/\")\n",
    "soup = BeautifulSoup(resp.text, \"html.parser\")\n",
    "\n",
    "hrefs = [i.get(\"href\", \"\") for i in soup.find_all(\"a\")]\n",
    "extensions = [\"gz\", \"csv\", \"geojson\"]\n",
    "\n",
    "data_links = [i for i in hrefs if i.split(\".\")[-1] in extensions and \"/data/\" in i]"
   ]
  },
  {
   "cell_type": "code",
   "execution_count": null,
   "id": "75c548f2-529f-4f72-a174-d64e37301aea",
   "metadata": {},
   "outputs": [],
   "source": [
    "cannot_process = []\n",
    "retry = []"
   ]
  },
  {
   "cell_type": "code",
   "execution_count": null,
   "id": "a0e259ba-ce72-447b-a199-be853b2017da",
   "metadata": {},
   "outputs": [],
   "source": [
    "len(cannot_process)"
   ]
  },
  {
   "cell_type": "code",
   "execution_count": null,
   "id": "a7ab679a-6b3f-4af8-884c-bf93b359b566",
   "metadata": {},
   "outputs": [],
   "source": [
    "len(retry)"
   ]
  },
  {
   "cell_type": "code",
   "execution_count": null,
   "id": "779b5433-e98d-4703-9399-0fb056cf9eb9",
   "metadata": {},
   "outputs": [],
   "source": [
    "with open(\"cannot_process.json\", \"w\") as outfile:\n",
    "    outfile.write(json.dumps(cannot_process))"
   ]
  },
  {
   "cell_type": "code",
   "execution_count": null,
   "id": "7ae07c4c-dbe1-4687-af23-a2af42dd05a0",
   "metadata": {},
   "outputs": [],
   "source": [
    "with open(\"cannot_process.json\", \"r\") as outfile:\n",
    "    cannot_process = json.load(outfile)"
   ]
  },
  {
   "cell_type": "code",
   "execution_count": null,
   "id": "bc2e74ad-edf4-47e6-bf87-3b07c6bf1514",
   "metadata": {},
   "outputs": [],
   "source": []
  },
  {
   "cell_type": "code",
   "execution_count": null,
   "id": "7116d02f-2742-4af2-9cab-2c4e7c5523e1",
   "metadata": {},
   "outputs": [],
   "source": [
    "with open(\"retry.json\", \"w\") as outfile:\n",
    "    outfile.write(json.dumps(retry))"
   ]
  },
  {
   "cell_type": "code",
   "execution_count": null,
   "id": "a821ec55-9ead-4038-9a2e-fe7327618381",
   "metadata": {},
   "outputs": [],
   "source": [
    "with open(\"retry.json\", \"r\") as openfile:\n",
    "    data_links = json.load(openfile)"
   ]
  },
  {
   "cell_type": "code",
   "execution_count": null,
   "id": "75b5fcd3-91d7-4631-9734-faa1f9413876",
   "metadata": {},
   "outputs": [],
   "source": [
    "# for link in [i for i in data_links if 'united-kingdom' in i or 'turkey' in i]:\n",
    "while len(data_links) > 0:\n",
    "    link = data_links.pop()\n",
    "    splits = link.split(\"/\")\n",
    "\n",
    "    try:\n",
    "        file_name = splits[-1]\n",
    "        country = splits[3]\n",
    "        state = splits[4]\n",
    "        city = splits[5]\n",
    "        scrape_date = splits[6]\n",
    "        data_category = file_name.split(\".\")[0]\n",
    "\n",
    "        target = (\n",
    "            f\"data/delta/airbnb/{country}/{state}/{city}/{data_category}/{scrape_date}\"\n",
    "        )\n",
    "        print(link)\n",
    "        print(f\"{target}\")\n",
    "\n",
    "        try:\n",
    "            df = pd.read_csv(link, low_memory=False)\n",
    "            if len(df) > 0:\n",
    "                spark_df = spark.createDataFrame(df)\n",
    "                spark_df.write.format(\"delta\").mode(\"overwrite\").save(target)\n",
    "        except UnicodeEncodeError:\n",
    "            cannot_process.append(link)\n",
    "            print(f\"xxx cannot read link: {link}\")\n",
    "    except Exception:\n",
    "        retry.append(link)\n",
    "        print(f\"xxx cannot process link: {link}\")"
   ]
  },
  {
   "cell_type": "code",
   "execution_count": null,
   "id": "af47a5f1-aa8c-425d-83ff-190ca47453b8",
   "metadata": {},
   "outputs": [],
   "source": []
  }
 ],
 "metadata": {
  "kernelspec": {
   "display_name": "Python 3 (ipykernel)",
   "language": "python",
   "name": "python3"
  },
  "language_info": {
   "codemirror_mode": {
    "name": "ipython",
    "version": 3
   },
   "file_extension": ".py",
   "mimetype": "text/x-python",
   "name": "python",
   "nbconvert_exporter": "python",
   "pygments_lexer": "ipython3",
   "version": "3.11.5"
  }
 },
 "nbformat": 4,
 "nbformat_minor": 5
}
