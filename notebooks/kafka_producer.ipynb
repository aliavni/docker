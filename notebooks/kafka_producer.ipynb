{
 "cells": [
  {
   "cell_type": "code",
   "execution_count": 1,
   "id": "1bbed396-de52-47be-982b-0c6528115491",
   "metadata": {},
   "source": [
    "from kafka import KafkaProducer"
   ],
   "outputs": []
  },
  {
   "cell_type": "code",
   "execution_count": 2,
   "id": "f62fb20d-8fc1-477d-9a99-2158bb3a5a1b",
   "metadata": {},
   "source": [
    "topic = \"test\""
   ],
   "outputs": []
  },
  {
   "cell_type": "code",
   "execution_count": 3,
   "id": "9d4d0c7b-1f4b-40c8-ac3a-44cbf107b7d7",
   "metadata": {},
   "source": [
    "producer = KafkaProducer(bootstrap_servers=\"docker-kafka-1:9092\", acks=1)"
   ],
   "outputs": []
  },
  {
   "cell_type": "code",
   "execution_count": 14,
   "id": "cd65e181-0584-40c8-9259-99a9fadafeb6",
   "metadata": {},
   "source": [
    "def on_send_success(record_metadata):\n",
    "    print(\n",
    "        f\"record_metadata.topic: {record_metadata.topic} | record_metadata.partition: {record_metadata.partition} | record_metadata.offset: {record_metadata.offset}\"\n",
    "    )\n",
    "\n",
    "\n",
    "def on_send_error(excp):\n",
    "    print(excp)"
   ],
   "outputs": []
  },
  {
   "cell_type": "code",
   "execution_count": 15,
   "id": "76cfb95a-d514-4fb5-86c5-e1e92676ad08",
   "metadata": {},
   "source": [
    "for i in range(10):\n",
    "    message = f\"message {i}\"\n",
    "    future = (\n",
    "        producer.send(topic, bytes(message, \"utf-8\"))\n",
    "        .add_callback(on_send_success)\n",
    "        .add_errback(on_send_error)\n",
    "    )"
   ],
   "outputs": []
  },
  {
   "cell_type": "code",
   "execution_count": null,
   "id": "899a4079-fead-42ac-9e3e-814889ebec4e",
   "metadata": {},
   "source": [],
   "outputs": []
  }
 ],
 "metadata": {
  "kernelspec": {
   "display_name": "Python 3 (ipykernel)",
   "language": "python",
   "name": "python3"
  },
  "language_info": {
   "codemirror_mode": {
    "name": "ipython",
    "version": 3
   },
   "file_extension": ".py",
   "mimetype": "text/x-python",
   "name": "python",
   "nbconvert_exporter": "python",
   "pygments_lexer": "ipython3",
   "version": "3.11.5"
  }
 },
 "nbformat": 4,
 "nbformat_minor": 5
}
