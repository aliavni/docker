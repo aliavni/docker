{
 "cells": [
  {
   "cell_type": "code",
   "execution_count": 2,
   "id": "1bbed396-de52-47be-982b-0c6528115491",
   "metadata": {},
   "outputs": [],
   "source": [
    "from kafka import KafkaProducer"
   ]
  },
  {
   "cell_type": "code",
   "execution_count": 3,
   "id": "f62fb20d-8fc1-477d-9a99-2158bb3a5a1b",
   "metadata": {},
   "outputs": [],
   "source": [
    "topic = \"test\""
   ]
  },
  {
   "cell_type": "code",
   "execution_count": 4,
   "id": "9d4d0c7b-1f4b-40c8-ac3a-44cbf107b7d7",
   "metadata": {},
   "outputs": [],
   "source": [
    "producer = KafkaProducer(bootstrap_servers=\"kafka:9092\", acks=1)"
   ]
  },
  {
   "cell_type": "code",
   "execution_count": 5,
   "id": "cd65e181-0584-40c8-9259-99a9fadafeb6",
   "metadata": {},
   "outputs": [],
   "source": [
    "def on_send_success(record_metadata):\n",
    "    print(\n",
    "        f\"record_metadata.topic: {record_metadata.topic} | record_metadata.partition: {record_metadata.partition} | record_metadata.offset: {record_metadata.offset}\"\n",
    "    )\n",
    "\n",
    "\n",
    "def on_send_error(excp):\n",
    "    print(excp)"
   ]
  },
  {
   "cell_type": "code",
   "execution_count": 7,
   "id": "76cfb95a-d514-4fb5-86c5-e1e92676ad08",
   "metadata": {},
   "outputs": [
    {
     "name": "stdout",
     "output_type": "stream",
     "text": [
      "record_metadata.topic: test | record_metadata.partition: 0 | record_metadata.offset: 11\n",
      "record_metadata.topic: test | record_metadata.partition: 0 | record_metadata.offset: 12\n",
      "record_metadata.topic: test | record_metadata.partition: 0 | record_metadata.offset: 13\n",
      "record_metadata.topic: test | record_metadata.partition: 0 | record_metadata.offset: 14\n",
      "record_metadata.topic: test | record_metadata.partition: 0 | record_metadata.offset: 15\n",
      "record_metadata.topic: test | record_metadata.partition: 0 | record_metadata.offset: 16\n",
      "record_metadata.topic: test | record_metadata.partition: 0 | record_metadata.offset: 17\n",
      "record_metadata.topic: test | record_metadata.partition: 0 | record_metadata.offset: 18\n",
      "record_metadata.topic: test | record_metadata.partition: 0 | record_metadata.offset: 19\n",
      "record_metadata.topic: test | record_metadata.partition: 0 | record_metadata.offset: 20\n"
     ]
    }
   ],
   "source": [
    "for i in range(10):\n",
    "    message = f\"message {i}\"\n",
    "    future = (\n",
    "        producer.send(topic, bytes(message, \"utf-8\"))\n",
    "        .add_callback(on_send_success)\n",
    "        .add_errback(on_send_error)\n",
    "    )"
   ]
  },
  {
   "cell_type": "code",
   "execution_count": 16,
   "id": "2399b32c-1bd1-4a50-80f8-6762856c328c",
   "metadata": {},
   "outputs": [],
   "source": [
    "! which nc"
   ]
  },
  {
   "cell_type": "code",
   "execution_count": null,
   "id": "8e0d47e9-63fc-4545-95b7-ac936f177e04",
   "metadata": {},
   "outputs": [],
   "source": []
  }
 ],
 "metadata": {
  "kernelspec": {
   "display_name": "Python 3 (ipykernel)",
   "language": "python",
   "name": "python3"
  },
  "language_info": {
   "codemirror_mode": {
    "name": "ipython",
    "version": 3
   },
   "file_extension": ".py",
   "mimetype": "text/x-python",
   "name": "python",
   "nbconvert_exporter": "python",
   "pygments_lexer": "ipython3",
   "version": "3.11.5"
  }
 },
 "nbformat": 4,
 "nbformat_minor": 5
}
