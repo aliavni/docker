{
 "cells": [
  {
   "cell_type": "code",
   "execution_count": 8,
   "id": "1bbed396-de52-47be-982b-0c6528115491",
   "metadata": {},
   "outputs": [],
   "source": [
    "from kafka import KafkaProducer"
   ]
  },
  {
   "cell_type": "code",
   "execution_count": 9,
   "id": "f62fb20d-8fc1-477d-9a99-2158bb3a5a1b",
   "metadata": {},
   "outputs": [],
   "source": [
    "topic = \"test\""
   ]
  },
  {
   "cell_type": "code",
   "execution_count": 10,
   "id": "9d4d0c7b-1f4b-40c8-ac3a-44cbf107b7d7",
   "metadata": {},
   "outputs": [],
   "source": [
    "producer = KafkaProducer(\n",
    "    bootstrap_servers=\"kafka:9092\", acks=1, value_serializer=lambda v: v.encode(\"utf-8\")\n",
    ")"
   ]
  },
  {
   "cell_type": "code",
   "execution_count": 11,
   "id": "cd65e181-0584-40c8-9259-99a9fadafeb6",
   "metadata": {},
   "outputs": [],
   "source": [
    "def on_send_success(record_metadata):\n",
    "    print(\n",
    "        f\"record_metadata.topic: {record_metadata.topic} | record_metadata.partition: {record_metadata.partition} | record_metadata.offset: {record_metadata.offset}\"\n",
    "    )\n",
    "\n",
    "\n",
    "def on_send_error(excp):\n",
    "    print(excp)"
   ]
  },
  {
   "cell_type": "code",
   "execution_count": 13,
   "id": "76cfb95a-d514-4fb5-86c5-e1e92676ad08",
   "metadata": {},
   "outputs": [
    {
     "name": "stdout",
     "output_type": "stream",
     "text": [
      "record_metadata.topic: test | record_metadata.partition: 0 | record_metadata.offset: 51\n",
      "record_metadata.topic: test | record_metadata.partition: 0 | record_metadata.offset: 52\n",
      "record_metadata.topic: test | record_metadata.partition: 0 | record_metadata.offset: 53\n",
      "record_metadata.topic: test | record_metadata.partition: 0 | record_metadata.offset: 54\n",
      "record_metadata.topic: test | record_metadata.partition: 0 | record_metadata.offset: 55\n",
      "record_metadata.topic: test | record_metadata.partition: 0 | record_metadata.offset: 56\n",
      "record_metadata.topic: test | record_metadata.partition: 0 | record_metadata.offset: 57\n",
      "record_metadata.topic: test | record_metadata.partition: 0 | record_metadata.offset: 58\n",
      "record_metadata.topic: test | record_metadata.partition: 0 | record_metadata.offset: 59\n",
      "record_metadata.topic: test | record_metadata.partition: 0 | record_metadata.offset: 60\n"
     ]
    }
   ],
   "source": [
    "for i in range(10):\n",
    "    message = f\"message {i}\"\n",
    "    future = (\n",
    "        producer.send(topic, message)\n",
    "        .add_callback(on_send_success)\n",
    "        .add_errback(on_send_error)\n",
    "    )"
   ]
  },
  {
   "cell_type": "code",
   "execution_count": null,
   "id": "8e0d47e9-63fc-4545-95b7-ac936f177e04",
   "metadata": {},
   "outputs": [],
   "source": []
  }
 ],
 "metadata": {
  "kernelspec": {
   "display_name": "Python 3 (ipykernel)",
   "language": "python",
   "name": "python3"
  },
  "language_info": {
   "codemirror_mode": {
    "name": "ipython",
    "version": 3
   },
   "file_extension": ".py",
   "mimetype": "text/x-python",
   "name": "python",
   "nbconvert_exporter": "python",
   "pygments_lexer": "ipython3",
   "version": "3.11.5"
  }
 },
 "nbformat": 4,
 "nbformat_minor": 5
}
