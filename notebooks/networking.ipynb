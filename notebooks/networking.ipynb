{
 "cells": [
  {
   "cell_type": "code",
   "execution_count": 3,
   "id": "b7a13edb-2463-4e5a-bc74-54e8db4838a5",
   "metadata": {},
   "outputs": [],
   "source": [
    "import socket"
   ]
  },
  {
   "cell_type": "code",
   "execution_count": 4,
   "id": "248392c0-3494-4c9b-aace-d120df4fe456",
   "metadata": {},
   "outputs": [],
   "source": [
    "def check(host, port, timeout=2):\n",
    "    sock = socket.socket(socket.AF_INET, socket.SOCK_STREAM)  # presumably\n",
    "    sock.settimeout(timeout)\n",
    "    try:\n",
    "        sock.connect((host, port))\n",
    "    except Exception as e:\n",
    "        print(e)\n",
    "        return False\n",
    "    else:\n",
    "        sock.close()\n",
    "        return True"
   ]
  },
  {
   "cell_type": "code",
   "execution_count": 5,
   "id": "ed3a7dda-0a62-4363-a8b8-9459afa2ea23",
   "metadata": {},
   "outputs": [
    {
     "name": "stdout",
     "output_type": "stream",
     "text": [
      "True\n"
     ]
    }
   ],
   "source": [
    "print(check(\"google.com\", 443, timeout=1))"
   ]
  },
  {
   "cell_type": "code",
   "execution_count": 6,
   "id": "c339cf60-ea25-4cb6-a6b6-21bc9f7a8f00",
   "metadata": {},
   "outputs": [
    {
     "name": "stdout",
     "output_type": "stream",
     "text": [
      "True\n"
     ]
    }
   ],
   "source": [
    "print(check(\"docker-postgres\", 5432, timeout=1))"
   ]
  },
  {
   "cell_type": "code",
   "execution_count": 7,
   "id": "41765bd0-0f21-4f67-9c61-44bdc1d63628",
   "metadata": {},
   "outputs": [
    {
     "name": "stdout",
     "output_type": "stream",
     "text": [
      "True\n"
     ]
    }
   ],
   "source": [
    "print(check(\"trino\", 8080, timeout=1))"
   ]
  },
  {
   "cell_type": "code",
   "execution_count": 8,
   "id": "0d8c444e-4817-4780-8761-436f4619a3d4",
   "metadata": {},
   "outputs": [
    {
     "name": "stdout",
     "output_type": "stream",
     "text": [
      "True\n"
     ]
    }
   ],
   "source": [
    "print(check(\"spark-master\", 7077, timeout=1))"
   ]
  },
  {
   "cell_type": "code",
   "execution_count": 9,
   "id": "f1d1b5b1-7c19-442d-971a-ff1d4349a140",
   "metadata": {},
   "outputs": [
    {
     "name": "stdout",
     "output_type": "stream",
     "text": [
      "True\n"
     ]
    }
   ],
   "source": [
    "print(check(\"spark-master\", 8080, timeout=1))"
   ]
  },
  {
   "cell_type": "code",
   "execution_count": 10,
   "id": "dd10f622-b18e-4084-ae71-d72aeb2d7d4e",
   "metadata": {},
   "outputs": [
    {
     "name": "stdout",
     "output_type": "stream",
     "text": [
      "[Errno 111] Connection refused\n",
      "False\n"
     ]
    }
   ],
   "source": [
    "print(check(\"spark-master\", 443, timeout=1))"
   ]
  },
  {
   "cell_type": "code",
   "execution_count": null,
   "id": "ae54386d-055e-4622-8da3-e25de7e70a77",
   "metadata": {},
   "outputs": [],
   "source": []
  }
 ],
 "metadata": {
  "kernelspec": {
   "display_name": "Python 3 (ipykernel)",
   "language": "python",
   "name": "python3"
  },
  "language_info": {
   "codemirror_mode": {
    "name": "ipython",
    "version": 3
   },
   "file_extension": ".py",
   "mimetype": "text/x-python",
   "name": "python",
   "nbconvert_exporter": "python",
   "pygments_lexer": "ipython3",
   "version": "3.11.5"
  }
 },
 "nbformat": 4,
 "nbformat_minor": 5
}
