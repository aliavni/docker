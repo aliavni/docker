{
 "cells": [
  {
   "cell_type": "code",
   "execution_count": 1,
   "id": "b7a13edb-2463-4e5a-bc74-54e8db4838a5",
   "metadata": {},
   "outputs": [],
   "source": [
    "import socket"
   ]
  },
  {
   "cell_type": "code",
   "execution_count": 2,
   "id": "248392c0-3494-4c9b-aace-d120df4fe456",
   "metadata": {},
   "outputs": [],
   "source": [
    "def check(host, port, timeout=2):\n",
    "    sock = socket.socket(socket.AF_INET, socket.SOCK_STREAM)\n",
    "\n",
    "    sock.settimeout(timeout)\n",
    "\n",
    "    try:\n",
    "        sock.connect((host, port))\n",
    "    except Exception as e:\n",
    "        print(e)\n",
    "        return False\n",
    "    else:\n",
    "        sock.close()\n",
    "        return True"
   ]
  },
  {
   "cell_type": "code",
   "execution_count": 14,
   "id": "ed3a7dda-0a62-4363-a8b8-9459afa2ea23",
   "metadata": {},
   "outputs": [
    {
     "name": "stdout",
     "output_type": "stream",
     "text": [
      "True\n"
     ]
    }
   ],
   "source": [
    "print(check(\"google.com\", 443, timeout=1))"
   ]
  },
  {
   "cell_type": "code",
   "execution_count": 13,
   "id": "c339cf60-ea25-4cb6-a6b6-21bc9f7a8f00",
   "metadata": {},
   "outputs": [
    {
     "name": "stdout",
     "output_type": "stream",
     "text": [
      "True\n"
     ]
    }
   ],
   "source": [
    "print(check(\"docker-postgres\", 5432, timeout=1))"
   ]
  },
  {
   "cell_type": "code",
   "execution_count": 12,
   "id": "41765bd0-0f21-4f67-9c61-44bdc1d63628",
   "metadata": {},
   "outputs": [
    {
     "name": "stdout",
     "output_type": "stream",
     "text": [
      "True\n"
     ]
    }
   ],
   "source": [
    "print(check(\"trino\", 8080, timeout=1))"
   ]
  },
  {
   "cell_type": "code",
   "execution_count": null,
   "id": "80b410ac-8616-4907-8d97-bae08ddeaf23",
   "metadata": {},
   "outputs": [],
   "source": []
  },
  {
   "cell_type": "code",
   "execution_count": 8,
   "id": "0d8c444e-4817-4780-8761-436f4619a3d4",
   "metadata": {},
   "outputs": [
    {
     "name": "stdout",
     "output_type": "stream",
     "text": [
      "True\n"
     ]
    }
   ],
   "source": [
    "print(check(\"spark-master\", 7077, timeout=1))"
   ]
  },
  {
   "cell_type": "code",
   "execution_count": 8,
   "id": "f1d1b5b1-7c19-442d-971a-ff1d4349a140",
   "metadata": {},
   "outputs": [
    {
     "name": "stdout",
     "output_type": "stream",
     "text": [
      "True\n"
     ]
    }
   ],
   "source": [
    "print(check(\"spark-master\", 8080, timeout=1))"
   ]
  },
  {
   "cell_type": "code",
   "execution_count": 9,
   "id": "6a09bb2c-53b7-48ea-ade4-9d187542ae9e",
   "metadata": {},
   "outputs": [
    {
     "name": "stdout",
     "output_type": "stream",
     "text": [
      "True\n"
     ]
    }
   ],
   "source": [
    "print(check(\"spark-master\", 10000, timeout=1))"
   ]
  },
  {
   "cell_type": "code",
   "execution_count": null,
   "id": "ae54386d-055e-4622-8da3-e25de7e70a77",
   "metadata": {},
   "outputs": [],
   "source": []
  }
 ],
 "metadata": {
  "kernelspec": {
   "display_name": "Python 3 (ipykernel)",
   "language": "python",
   "name": "python3"
  },
  "language_info": {
   "codemirror_mode": {
    "name": "ipython",
    "version": 3
   },
   "file_extension": ".py",
   "mimetype": "text/x-python",
   "name": "python",
   "nbconvert_exporter": "python",
   "pygments_lexer": "ipython3",
   "version": "3.11.5"
  }
 },
 "nbformat": 4,
 "nbformat_minor": 5
}
